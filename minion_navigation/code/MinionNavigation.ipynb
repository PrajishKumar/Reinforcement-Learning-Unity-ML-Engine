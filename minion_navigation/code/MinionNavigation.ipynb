{
 "cells": [
  {
   "cell_type": "markdown",
   "metadata": {},
   "source": [
    "# Minion Navigation\n",
    "\n",
    "---\n",
    "\n",
    "In this notebook, we're training an agent (here, a minion), to navigate through the space and pick up yellow bananas and avoiding blue banabas as it walks around. \n",
    "\n",
    "We use the Unity ML-Agents environment. This is performed as part of a project for the course [Deep Reinforcement Learning Nanodegree](https://www.udacity.com/course/deep-reinforcement-learning-nanodegree--nd893).\n",
    "\n",
    "### 1. Start the Environment\n",
    "\n",
    "We begin by importing some necessary packages.  If the code cell below returns an error, please revisit the project instructions (README) to double-check that you have installed the necessary packages. "
   ]
  },
  {
   "cell_type": "code",
   "execution_count": null,
   "metadata": {},
   "outputs": [],
   "source": [
    "from collections import deque\n",
    "import matplotlib.pyplot as plt\n",
    "import numpy as np\n",
    "import torch\n",
    "from unityagents import UnityEnvironment\n",
    "\n",
    "from agent import Agent\n",
    "\n",
    "%matplotlib inline\n",
    "\n",
    "device = torch.device(\"cuda:0\" if torch.cuda.is_available() else \"cpu\")"
   ]
  },
  {
   "cell_type": "markdown",
   "metadata": {},
   "source": [
    "Next, we will start the environment. Note that this will only work on a Linux (x64) machine. "
   ]
  },
  {
   "cell_type": "code",
   "execution_count": null,
   "metadata": {},
   "outputs": [],
   "source": [
    "env = UnityEnvironment(file_name=\"../unity_environment/Banana.x86_64\")"
   ]
  },
  {
   "cell_type": "markdown",
   "metadata": {},
   "source": [
    "You should now see a Unity visualization window just spawned. If you get any pop-ups on the application not responding, just click \"Wait\" or ignore the message. "
   ]
  },
  {
   "cell_type": "markdown",
   "metadata": {},
   "source": [
    "Environments contain **_brains_** which are responsible for deciding the actions of their associated agents. Here we check for the first brain available, and set it as the default brain we will be controlling from Python."
   ]
  },
  {
   "cell_type": "code",
   "execution_count": null,
   "metadata": {},
   "outputs": [],
   "source": [
    "# Get the default brain\n",
    "brain_name = env.brain_names[0]\n",
    "brain = env.brains[brain_name]"
   ]
  },
  {
   "cell_type": "markdown",
   "metadata": {},
   "source": [
    "### 2. Examine the State and Action Spaces\n",
    "\n",
    "The simulation contains a single agent that navigates a large environment.  At each time step, it has four actions at its disposal:\n",
    "- `0` - walk forward \n",
    "- `1` - walk backward\n",
    "- `2` - turn left\n",
    "- `3` - turn right\n",
    "\n",
    "The state space has `37` dimensions and contains the agent's velocity, along with ray-based perception of objects around agent's forward direction.  A reward of `+1` is provided for collecting a yellow banana, and a reward of `-1` is provided for collecting a blue banana. \n",
    "\n",
    "Run the code cell below to print some information about the environment."
   ]
  },
  {
   "cell_type": "code",
   "execution_count": null,
   "metadata": {},
   "outputs": [],
   "source": [
    "# Reset the environment\n",
    "env_info = env.reset(train_mode=False)[brain_name]\n",
    "print('Number of agents:', len(env_info.agents))\n",
    "\n",
    "action_size = brain.vector_action_space_size\n",
    "print('Number of possible actions:', action_size)\n",
    "\n",
    "state = env_info.vector_observations[0]\n",
    "state_size = len(state)\n",
    "print('Number of possible stes:', state_size)"
   ]
  },
  {
   "cell_type": "markdown",
   "metadata": {},
   "source": [
    "### 3. Take Random Actions in the Environment\n",
    "\n",
    "Let's confirm that we have everything set up and the visualization works. \n",
    "\n",
    "Here, we will watch the agent's (minion) performance, as it selects an action (uniformly) at random with each time step.  A window should pop up that allows you to observe the agent, as it moves through the environment.  "
   ]
  },
  {
   "cell_type": "code",
   "execution_count": null,
   "metadata": {},
   "outputs": [],
   "source": [
    "env_info = env.reset(train_mode=False)[brain_name] # reset the environment\n",
    "state = env_info.vector_observations[0]            # get the current state\n",
    "score = 0                                          # initialize the score\n",
    "while True:\n",
    "    action = np.random.randint(action_size)        # select an action\n",
    "    env_info = env.step(action)[brain_name]        # send the action to the environment\n",
    "    next_state = env_info.vector_observations[0]   # get the next state\n",
    "    reward = env_info.rewards[0]                   # get the reward\n",
    "    done = env_info.local_done[0]                  # see if episode has finished\n",
    "    score += reward                                # update the score\n",
    "    state = next_state                             # roll over the state to next time step\n",
    "    if done:                                       # exit loop if episode finished\n",
    "        break\n",
    "    \n",
    "print(\"Score: {}\".format(score))"
   ]
  },
  {
   "cell_type": "markdown",
   "metadata": {},
   "source": [
    "### 4. Let's train the minion!\n",
    "\n",
    "Let's construct our minion from the `Agent` class. "
   ]
  },
  {
   "cell_type": "code",
   "execution_count": null,
   "metadata": {},
   "outputs": [],
   "source": [
    "minion = Agent(state_size=state_size, action_size=action_size, device=device, seed=0)"
   ]
  },
  {
   "cell_type": "markdown",
   "metadata": {},
   "source": [
    "Let's define some hyper-parameters for our training. "
   ]
  },
  {
   "cell_type": "code",
   "execution_count": null,
   "metadata": {},
   "outputs": [],
   "source": [
    "NUM_EPISODES = 2000           # Maximum number of training episodes.\n",
    "MAX_TIME_IN_EPISODE = 1000   # Maximum number of timesteps per episode.\n",
    "\n",
    "def update_eps(eps): \n",
    "    \"\"\"\n",
    "    Updates the epsilon for the epsilon-greedy policy. \n",
    "    \"\"\"\n",
    "    eps = min(eps, 1.0) # The starting value. \n",
    "    return max(0.01, 0.995 * eps) # Decrease eps until it stays at a constant 0.01. "
   ]
  },
  {
   "cell_type": "code",
   "execution_count": null,
   "metadata": {},
   "outputs": [],
   "source": [
    "SCORE_ACCEPTANCE_THRESHOLD = 13.\n",
    "\n",
    "scores = []                        # List containing scores from each episode\n",
    "scores_window = deque(maxlen=100)  # Last 100 scores\n",
    "num_episodes_to_acceptance_threshold = -1\n",
    "\n",
    "eps = 1.0 \n",
    "\n",
    "for episode_idx in range(1, NUM_EPISODES + 1):\n",
    "    # Reset. \n",
    "    state = env.reset(train_mode=True)[brain_name].vector_observations[0]\n",
    "    score = 0\n",
    "    \n",
    "    # Rollout the episode until MAX_TIME_IN_EPISODE or episode termination. \n",
    "    for t in range(MAX_TIME_IN_EPISODE):\n",
    "        # Get the action our agent must take at the current state.\n",
    "        action = minion.act(state, eps)\n",
    "        \n",
    "        # Get the experience vectors. \n",
    "        step_info = env.step(action)[brain_name] \n",
    "        next_state = step_info.vector_observations[0]\n",
    "        reward = step_info.rewards[0]\n",
    "        done = step_info.local_done[0]\n",
    "        \n",
    "        # Learn from the experience. \n",
    "        minion.step(state, action, reward, next_state, done)\n",
    "        \n",
    "        # Update next state. \n",
    "        state = next_state\n",
    "        \n",
    "        # Update reward. \n",
    "        score += reward\n",
    "        \n",
    "        # If this episode terminates, move to the next episode. \n",
    "        if done:\n",
    "            break \n",
    "    \n",
    "    # Update episilon.\n",
    "    eps = update_eps(eps)\n",
    "    \n",
    "    # Update scores. \n",
    "    scores_window.append(score)       # save most recent score\n",
    "    scores.append(score)              # save most recent score\n",
    "    print('\\rEpisode {}\\tAverage Score: {:.2f}'.format(episode_idx, np.mean(scores_window)), end=\"\")\n",
    "    if episode_idx % 100 == 0:\n",
    "        print('\\rEpisode {}\\tAverage Score: {:.2f}'.format(episode_idx, np.mean(scores_window)))\n",
    "        if np.mean(scores_window) >= SCORE_ACCEPTANCE_THRESHOLD and num_episodes_to_acceptance_threshold < 0:\n",
    "            num_episodes_to_acceptance_threshold = episode_idx\n",
    "\n",
    "print(f\"\\nOur minion learnt to get a score of {SCORE_ACCEPTANCE_THRESHOLD} in {num_episodes_to_acceptance_threshold} episodes.\")"
   ]
  },
  {
   "cell_type": "code",
   "execution_count": null,
   "metadata": {},
   "outputs": [],
   "source": [
    "# Plot the scores over learning time. \n",
    "\n",
    "fig = plt.figure()\n",
    "ax = fig.add_subplot(111)\n",
    "plt.plot(np.arange(len(scores)), scores, label='raw')\n",
    "averaged_scores = np.convolve(scores, np.ones(10)/10, mode='valid')\n",
    "plt.plot(np.arange(len(averaged_scores)), averaged_scores, linewidth=4, label='averaged')\n",
    "plt.plot([0, len(scores)], [SCORE_ACCEPTANCE_THRESHOLD, SCORE_ACCEPTANCE_THRESHOLD], \n",
    "         linestyle='dashed', \n",
    "         label='acceptance threshold')\n",
    "plt.ylabel('Score')\n",
    "plt.xlabel('Episode #')\n",
    "plt.legend()\n",
    "plt.show()"
   ]
  },
  {
   "cell_type": "markdown",
   "metadata": {},
   "source": [
    "Save the parameters of the Q network. "
   ]
  },
  {
   "cell_type": "code",
   "execution_count": null,
   "metadata": {},
   "outputs": [],
   "source": [
    "torch.save(minion.q_network_local.state_dict(), '../model/trained_model.pt')"
   ]
  },
  {
   "cell_type": "markdown",
   "metadata": {},
   "source": [
    "### 5. Test our minion's performance. "
   ]
  },
  {
   "cell_type": "code",
   "execution_count": null,
   "metadata": {},
   "outputs": [],
   "source": [
    "# Load the weights from file. \n",
    "minion.q_network_local.load_state_dict(torch.load('../model/trained_model.pt'))\n",
    "\n",
    "env_info = env.reset(train_mode=False)[brain_name] # reset the environment\n",
    "state = env_info.vector_observations[0]            # get the current state\n",
    "score = 0                                          # initialize the score\n",
    "while True:\n",
    "    action = minion.act(state)                     # select an action\n",
    "    env_info = env.step(action)[brain_name]        # send the action to the environment\n",
    "    next_state = env_info.vector_observations[0]   # get the next state\n",
    "    reward = env_info.rewards[0]                   # get the reward\n",
    "    done = env_info.local_done[0]                  # see if episode has finished\n",
    "    score += reward                                # update the score\n",
    "    state = next_state                             # roll over the state to next time step\n",
    "    if done:                                       # exit loop if episode finished\n",
    "        break\n",
    "    \n",
    "print(\"Score: {}\".format(score))"
   ]
  },
  {
   "cell_type": "code",
   "execution_count": null,
   "metadata": {},
   "outputs": [],
   "source": [
    "env.close()"
   ]
  }
 ],
 "metadata": {
  "kernelspec": {
   "display_name": "banana_nav",
   "language": "python",
   "name": "banana_nav"
  },
  "language_info": {
   "codemirror_mode": {
    "name": "ipython",
    "version": 3
   },
   "file_extension": ".py",
   "mimetype": "text/x-python",
   "name": "python",
   "nbconvert_exporter": "python",
   "pygments_lexer": "ipython3",
   "version": "3.6.13"
  }
 },
 "nbformat": 4,
 "nbformat_minor": 2
}
