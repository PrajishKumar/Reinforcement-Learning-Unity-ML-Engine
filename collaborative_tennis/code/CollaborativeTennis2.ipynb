{
 "cells": [
  {
   "cell_type": "markdown",
   "metadata": {},
   "source": [
    "# Collaborative Tennis\n",
    "\n",
    "---\n",
    "\n",
    "In this notebook, we're training two agents to keep passing the ball between each other without dropping it. \n",
    "\n",
    "We use the Unity ML-Agents environment. This is performed as part of a project for the course [Deep Reinforcement Learning Nanodegree](https://www.udacity.com/course/deep-reinforcement-learning-nanodegree--nd893).\n",
    "\n",
    "### 1. Start the Environment\n",
    "\n",
    "We begin by importing some necessary packages.  If the code cell below returns an error, please revisit the project instructions (README) to double-check that you have installed the necessary packages. "
   ]
  },
  {
   "cell_type": "code",
   "execution_count": 1,
   "metadata": {},
   "outputs": [],
   "source": [
    "import matplotlib.pyplot as plt\n",
    "import numpy as np\n",
    "import torch\n",
    "from unityagents import UnityEnvironment\n",
    "\n",
    "from collaborative_agent import CollaborativeAgent\n",
    "from train import train\n",
    "\n",
    "%matplotlib inline\n",
    "\n",
    "device = torch.device(\"cuda:0\" if torch.cuda.is_available() else \"cpu\")"
   ]
  },
  {
   "cell_type": "markdown",
   "metadata": {},
   "source": [
    "Next, we will start the environment. **Note that this will only work on a Linux (x64) machine.**"
   ]
  },
  {
   "cell_type": "code",
   "execution_count": 2,
   "metadata": {},
   "outputs": [
    {
     "name": "stderr",
     "output_type": "stream",
     "text": [
      "INFO:unityagents:\n",
      "'Academy' started successfully!\n",
      "Unity Academy name: Academy\n",
      "        Number of Brains: 1\n",
      "        Number of External Brains : 1\n",
      "        Lesson number : 0\n",
      "        Reset Parameters :\n",
      "\t\t\n",
      "Unity brain name: TennisBrain\n",
      "        Number of Visual Observations (per agent): 0\n",
      "        Vector Observation space type: continuous\n",
      "        Vector Observation space size (per agent): 8\n",
      "        Number of stacked Vector Observation: 3\n",
      "        Vector Action space type: continuous\n",
      "        Vector Action space size (per agent): 2\n",
      "        Vector Action descriptions: , \n"
     ]
    }
   ],
   "source": [
    "env = UnityEnvironment(file_name=\"../unity_environment/Tennis.x86_64\")"
   ]
  },
  {
   "cell_type": "markdown",
   "metadata": {},
   "source": [
    "You should now see a Unity visualization window just spawned. If you get any pop-ups on the application not responding, just click \"Wait\" or ignore the message. "
   ]
  },
  {
   "cell_type": "markdown",
   "metadata": {},
   "source": [
    "Environments contain **_brains_** which are responsible for deciding the actions of their associated agents. Here we check for the first brain available, and set it as the default brain we will be controlling from Python."
   ]
  },
  {
   "cell_type": "code",
   "execution_count": 3,
   "metadata": {},
   "outputs": [],
   "source": [
    "# Get the default brain\n",
    "brain_name = env.brain_names[0]\n",
    "brain = env.brains[brain_name]"
   ]
  },
  {
   "cell_type": "markdown",
   "metadata": {},
   "source": [
    "### 2. Examine the State and Action Spaces\n",
    "\n",
    "In this environment, two agents control rackets to bounce a ball over a net. If an agent hits the ball over the net, it receives a reward of +0.1. If an agent lets a ball hit the ground or hits the ball out of bounds, it receives a reward of -0.01. Thus, the goal of each agent is to keep the ball in play.\n",
    "\n",
    "The observation space consists of 8 variables corresponding to the position and velocity of the ball and racket. Each agent receives its own, local observation. Two continuous actions are available, corresponding to movement toward (or away from) the net, and jumping. Every entry in the action vector must be a number between `-1` and `1`.\n",
    "\n",
    "Run the code cell below to print some information about the environment."
   ]
  },
  {
   "cell_type": "code",
   "execution_count": 4,
   "metadata": {},
   "outputs": [
    {
     "name": "stdout",
     "output_type": "stream",
     "text": [
      "Number of agents: 2\n",
      "Number of possible actions: 2\n",
      "Number of possible states: 24\n"
     ]
    }
   ],
   "source": [
    "# Reset the environment.\n",
    "env_info = env.reset(train_mode=False)[brain_name]\n",
    "\n",
    "# Number of agents.\n",
    "num_agents = len(env_info.agents)\n",
    "print(f'Number of agents: {num_agents}')\n",
    "\n",
    "# Size of action. \n",
    "action_size = brain.vector_action_space_size\n",
    "print(f'Number of possible actions: {action_size}')\n",
    "\n",
    "# Size of state. \n",
    "states = env_info.vector_observations\n",
    "state_size = states.shape[1]\n",
    "print(f'Number of possible states: {state_size}')"
   ]
  },
  {
   "cell_type": "markdown",
   "metadata": {},
   "source": [
    "### 3. Take Random Actions in the Environment\n",
    "\n",
    "Let's confirm that we have everything set up and the visualization works. \n",
    "\n",
    "Here, we will watch the agents' (tennis raquets) performance, as they select actions (uniformly) at random with each time step.  A window should pop up that allows you to observe the agents, as they move through the environment.  "
   ]
  },
  {
   "cell_type": "code",
   "execution_count": 5,
   "metadata": {},
   "outputs": [
    {
     "name": "stdout",
     "output_type": "stream",
     "text": [
      "Score from episode 1: 0.0\n",
      "Score from episode 2: 0.0\n",
      "Score from episode 3: 0.09000000171363354\n",
      "Score from episode 4: 0.0\n",
      "Score from episode 5: 0.0\n"
     ]
    }
   ],
   "source": [
    "for i in range(1, 6):                                      # play game for 5 episodes\n",
    "    env_info = env.reset(train_mode=False)[brain_name]     # reset the environment    \n",
    "    states = env_info.vector_observations                  # get the current state (for each agent)\n",
    "    scores = np.zeros(num_agents)                          # initialize the score (for each agent)\n",
    "    while True:\n",
    "        actions = np.random.randn(num_agents, action_size) # select an action (for each agent)\n",
    "        actions = np.clip(actions, -1, 1)                  # all actions between -1 and 1\n",
    "        env_info = env.step(actions)[brain_name]           # send all actions to tne environment\n",
    "        next_states = env_info.vector_observations         # get next state (for each agent)\n",
    "        rewards = env_info.rewards                         # get reward (for each agent)\n",
    "        dones = env_info.local_done                        # see if episode finished\n",
    "        scores += env_info.rewards                         # update the score (for each agent)\n",
    "        states = next_states                               # roll over states to next time step\n",
    "        if np.any(dones):                                  # exit loop if episode finished\n",
    "            break\n",
    "    print('Score from episode {}: {}'.format(i, np.max(scores)))"
   ]
  },
  {
   "cell_type": "markdown",
   "metadata": {},
   "source": [
    "### 4. Let's train the agents!\n",
    "\n",
    "Let's construct our collaborative agent, that contains both our individual agents, from the `CollaborativeAgent` class. "
   ]
  },
  {
   "cell_type": "code",
   "execution_count": 6,
   "metadata": {},
   "outputs": [],
   "source": [
    "agent = CollaborativeAgent(num_agents=num_agents, observation_size=state_size, action_size=action_size, device=device, seed=0)"
   ]
  },
  {
   "cell_type": "markdown",
   "metadata": {},
   "source": [
    "Let's begin training. "
   ]
  },
  {
   "cell_type": "code",
   "execution_count": 7,
   "metadata": {},
   "outputs": [],
   "source": [
    "NUM_EPISODES = 5000                    # Maximum number of training episodes.\n",
    "MAX_TIME_IN_EPISODE = 1000             # Maximum number of timesteps per episode.\n",
    "SCORE_ACCEPTANCE_THRESHOLD = 0.5       # The average score of all agents for the task to be considered successful. \n",
    "MAXSCORE_ACCEPTANCE_THRESHOLD = 1.0    # The average score of all agents for the task to stop training. "
   ]
  },
  {
   "cell_type": "code",
   "execution_count": 8,
   "metadata": {},
   "outputs": [
    {
     "name": "stdout",
     "output_type": "stream",
     "text": [
      "Episode 100\tAverage Score: 0.003000\n",
      "Episode 200\tAverage Score: 0.000000\n",
      "Episode 300\tAverage Score: 0.000000\n",
      "Episode 400\tAverage Score: 0.001000\n",
      "Episode 500\tAverage Score: 0.001000\n",
      "Episode 600\tAverage Score: 0.001000\n",
      "Episode 700\tAverage Score: 0.001000\n",
      "Episode 800\tAverage Score: 0.002900\n",
      "Episode 900\tAverage Score: 0.003000\n",
      "Episode 1000\tAverage Score: 0.000000\n",
      "Episode 1100\tAverage Score: 0.013000\n",
      "Episode 1200\tAverage Score: 0.005000\n",
      "Episode 1300\tAverage Score: 0.037000\n",
      "Episode 1400\tAverage Score: 0.046000\n",
      "Episode 1500\tAverage Score: 0.028800\n",
      "Episode 1600\tAverage Score: 0.031400\n",
      "Episode 1700\tAverage Score: 0.018000\n",
      "Episode 1800\tAverage Score: 0.066900\n",
      "Episode 1900\tAverage Score: 0.096900\n",
      "Episode 2000\tAverage Score: 0.058000\n",
      "Episode 2100\tAverage Score: 0.067000\n",
      "Episode 2200\tAverage Score: 0.064800\n",
      "Episode 2300\tAverage Score: 0.050900\n",
      "Episode 2400\tAverage Score: 0.067900\n",
      "Episode 2500\tAverage Score: 0.069800\n",
      "Episode 2600\tAverage Score: 0.074900\n",
      "Episode 2700\tAverage Score: 0.062900\n",
      "Episode 2800\tAverage Score: 0.071900\n",
      "Episode 2900\tAverage Score: 0.071900\n",
      "Episode 3000\tAverage Score: 0.051000\n",
      "Episode 3100\tAverage Score: 0.049000\n",
      "Episode 3200\tAverage Score: 0.054000\n",
      "Episode 3300\tAverage Score: 0.048000\n",
      "Episode 3400\tAverage Score: 0.057000\n",
      "Episode 3500\tAverage Score: 0.106400\n",
      "Episode 3600\tAverage Score: 0.142300\n",
      "Episode 3700\tAverage Score: 0.164700\n",
      "Episode 3800\tAverage Score: 0.213900\n",
      "Episode 3900\tAverage Score: 0.197300\n",
      "Episode 4000\tAverage Score: 0.208900\n",
      "Episode 4100\tAverage Score: 0.302000\n",
      "Episode 4173\tAverage Score: 0.505900\n",
      "Our agent learnt to get a score of 0.5 in 4173 episodes!\n",
      "Episode 4200\tAverage Score: 0.678800\n",
      "Episode 4300\tAverage Score: 1.152500\n"
     ]
    }
   ],
   "source": [
    "scores = train(env, \n",
    "               brain_name, \n",
    "               agent, \n",
    "               NUM_EPISODES, \n",
    "               MAX_TIME_IN_EPISODE,\n",
    "               SCORE_ACCEPTANCE_THRESHOLD, \n",
    "               MAXSCORE_ACCEPTANCE_THRESHOLD)"
   ]
  },
  {
   "cell_type": "code",
   "execution_count": 9,
   "metadata": {},
   "outputs": [
    {
     "data": {
      "image/png": "[encoded data removed]",
      "text/plain": [
       "<Figure size 432x288 with 1 Axes>"
      ]
     },
     "metadata": {
      "needs_background": "light"
     },
     "output_type": "display_data"
    }
   ],
   "source": [
    "# Plot the scores over learning time. \n",
    "\n",
    "fig = plt.figure()\n",
    "ax = fig.add_subplot(111)\n",
    "plt.plot(np.arange(len(scores)), scores, label='score')\n",
    "plt.plot([0, len(scores)], [SCORE_ACCEPTANCE_THRESHOLD, SCORE_ACCEPTANCE_THRESHOLD], \n",
    "         linestyle='dashed', \n",
    "         label='acceptance threshold')\n",
    "plt.ylabel('Score')\n",
    "plt.xlabel('Episode #')\n",
    "plt.legend()\n",
    "plt.show()"
   ]
  },
  {
   "cell_type": "markdown",
   "metadata": {},
   "source": [
    "### 5. Test our agent's performance. "
   ]
  },
  {
   "cell_type": "code",
   "execution_count": 10,
   "metadata": {},
   "outputs": [
    {
     "name": "stdout",
     "output_type": "stream",
     "text": [
      "Total score this episode: 1.995\n"
     ]
    }
   ],
   "source": [
    "# Load the weights from file. \n",
    "for idx in range(num_agents): \n",
    "    agent.agents[idx].actor_local.load_state_dict(torch.load(f'../model/trained_actor_{idx}.pt'))\n",
    "\n",
    "env_info = env.reset(train_mode=False)[brain_name]     # reset the environment    \n",
    "states = env_info.vector_observations                  # get the current state (for each agent)\n",
    "scores = np.zeros(num_agents)                          # initialize the score (for each agent)\n",
    "while True:\n",
    "    actions = agent.act(states)                        # select an action (for each agent)\n",
    "    env_info = env.step(actions)[brain_name]           # send all actions to tne environment\n",
    "    next_states = env_info.vector_observations         # get next state (for each agent)\n",
    "    rewards = env_info.rewards                         # get reward (for each agent)\n",
    "    dones = env_info.local_done                        # see if episode finished\n",
    "    scores += env_info.rewards                         # update the score (for each agent)\n",
    "    states = next_states                               # roll over states to next time step\n",
    "    if np.any(dones):                                  # exit loop if episode finished\n",
    "        break\n",
    "print(f'Total score this episode: {round(np.mean(scores),3)}')"
   ]
  },
  {
   "cell_type": "code",
   "execution_count": 11,
   "metadata": {},
   "outputs": [],
   "source": [
    "env.close()"
   ]
  },
  {
   "cell_type": "code",
   "execution_count": null,
   "metadata": {},
   "outputs": [],
   "source": []
  }
 ],
 "metadata": {
  "kernelspec": {
   "display_name": "arm_reacher",
   "language": "python",
   "name": "arm_reacher"
  },
  "language_info": {
   "codemirror_mode": {
    "name": "ipython",
    "version": 3
   },
   "file_extension": ".py",
   "mimetype": "text/x-python",
   "name": "python",
   "nbconvert_exporter": "python",
   "pygments_lexer": "ipython3",
   "version": "3.6.13"
  }
 },
 "nbformat": 4,
 "nbformat_minor": 2
}
